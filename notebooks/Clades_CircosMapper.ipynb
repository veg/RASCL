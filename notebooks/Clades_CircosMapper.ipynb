{
 "cells": [
  {
   "cell_type": "code",
   "execution_count": 14,
   "id": "b733fc6a",
   "metadata": {},
   "outputs": [],
   "source": [
    "# Imports\n",
    "import json\n",
    "import os"
   ]
  },
  {
   "cell_type": "code",
   "execution_count": 15,
   "id": "e4c807f3",
   "metadata": {},
   "outputs": [],
   "source": [
    "DATA_DIR = \"/Users/user/Documents/Clades/July_2021\"\n",
    "label = \"C.37\"\n",
    "\n",
    "# Annotation json\n",
    "ANNOTATION = os.path.join(DATA_DIR, label+\"_annotation.json\")\n",
    "\n",
    "# Summary json\n",
    "SUMMARY = os.path.join(DATA_DIR, label + \"_summary.json\")\n"
   ]
  },
  {
   "cell_type": "code",
   "execution_count": 16,
   "id": "5edc71bc",
   "metadata": {},
   "outputs": [],
   "source": [
    "# Circos base directory: /Users/user/Downloads/circos-0.69-9\n",
    "\n",
    "# links, meaning the coevolving sites: data/5/segdup_sars2_b1617.txt\n",
    "# plots, meaning the site level results: data/6/snp.density_sars2_b1617.txt\n",
    "\n",
    "# specify conf file with ./circos -conf circos.conf\n",
    "# the rest is hard-coded.\n",
    "\n",
    "\n",
    "# July 2021\n",
    "# /Users/user/Downloads/circos-0.69-9/circos -conf circos.conf"
   ]
  },
  {
   "cell_type": "code",
   "execution_count": 17,
   "id": "dd673fcb",
   "metadata": {},
   "outputs": [],
   "source": [
    "def map_to_gene(site):\n",
    "    global SUMMARY\n",
    "    with open(SUMMARY) as f:\n",
    "        data = json.load(f)\n",
    "    #end with\n",
    "    key = \"\"\n",
    "    for key in data:\n",
    "        #print(key)\n",
    "        theMap = data[key][\"map\"]\n",
    "        #rint(data[key][\"map\"])\n",
    "        #print(type(theMap))\n",
    "        #print(theMap)\n",
    "        if int(site) in theMap:\n",
    "            #print(\"Returning\", key)\n",
    "            return key, theMap.index(int(site))\n",
    "        #end if\n",
    "    return key, 0\n",
    "#end method"
   ]
  },
  {
   "cell_type": "code",
   "execution_count": 18,
   "id": "2709eff6",
   "metadata": {},
   "outputs": [],
   "source": [
    "NameMap = {\"S\": \"s2Spike\", \"E\": \"s2Envelope\", \"N\": \"s2Nucleocapsid\", \"ORF3a\": \"s2ORF3a\", \"methyltransferase\": \"s2Methyltransferase\",\n",
    "           \"helicase\": \"s2Helicase\", \"leader\": \"s2leader\", \"nsp10\": \"s2nsp10\",\n",
    "          \"nsp2\": \"s2nsp2\", \"nsp3\": \"s2nsp3\", \"nsp4\": \"s2nsp4\", \"nsp6\": \"s2nsp6\", \n",
    "           \"nsp7\": \"s2nsp7\", \"nsp8\": \"s2nsp8\", \"nsp9\": \"s2nsp9\",\n",
    "          \"ORF8\": \"s2ORF8\", \"ORF6\": \"s2ORF6\", \"3C\": \"s23C\", \"ORF7a\": \"s2ORF7a\",\n",
    "          \"exonuclease\": \"s2Exonuclease\", \"M\": \"s2Matrix\", \"endornase\":\"s2Endornase\", \"RdRp\": \"s2RdRP\"}"
   ]
  },
  {
   "cell_type": "markdown",
   "id": "98d0e554",
   "metadata": {},
   "source": [
    "## Process here, we will be creating the 'plots' data, meaning the site-level selection analyses results. Links, or the coevolving sites data will be processed separately."
   ]
  },
  {
   "cell_type": "code",
   "execution_count": 19,
   "id": "564e3e32",
   "metadata": {},
   "outputs": [],
   "source": [
    "output_data = []"
   ]
  },
  {
   "cell_type": "markdown",
   "id": "bd7f1d94",
   "metadata": {},
   "source": [
    "## Table 7 -- MEME All branches"
   ]
  },
  {
   "cell_type": "code",
   "execution_count": 20,
   "id": "0d0bba24",
   "metadata": {},
   "outputs": [
    {
     "name": "stdout",
     "output_type": "stream",
     "text": [
      "s23C 45 45 0.999\n",
      "s2Envelope 58 58 0.999\n",
      "s2Exonuclease 428 428 0.999\n",
      "s2Exonuclease 429 429 0.999\n",
      "s2Matrix 82 82 0.999\n",
      "s2Methyltransferase 213 213 0.999\n",
      "s2Methyltransferase 296 296 0.999\n",
      "s2Nucleocapsid 3 3 0.999\n",
      "s2Nucleocapsid 24 24 0.999\n",
      "s2Nucleocapsid 119 119 0.999\n",
      "s2Nucleocapsid 151 151 0.999\n",
      "s2Nucleocapsid 202 202 0.999\n",
      "s2Nucleocapsid 238 238 0.999\n",
      "s2Nucleocapsid 366 366 0.999\n",
      "s2Nucleocapsid 367 367 0.999\n",
      "s2Nucleocapsid 371 371 0.999\n",
      "s2Nucleocapsid 374 374 0.999\n",
      "s2Nucleocapsid 375 375 0.999\n",
      "s2Nucleocapsid 379 379 0.999\n",
      "s2Nucleocapsid 401 401 0.999\n",
      "s2Nucleocapsid 403 403 0.999\n",
      "s2Nucleocapsid 413 413 0.999\n",
      "s2Nucleocapsid 416 416 0.999\n",
      "s2Nucleocapsid 418 418 0.999\n",
      "s2nsp10 102 102 0.999\n",
      "s2nsp6 106 106 0.999\n",
      "s2nsp6 107 107 0.999\n",
      "s2nsp6 108 108 0.999\n",
      "s2nsp6 132 132 0.999\n",
      "s2nsp7 19 19 0.999\n",
      "s2ORF3a 155 155 0.999\n",
      "s2ORF3a 172 172 0.999\n",
      "s2ORF8 51 51 0.999\n",
      "s2ORF8 95 95 0.999\n",
      "s2Spike 5 5 0.999\n",
      "s2Spike 64 64 0.999\n",
      "s2Spike 72 72 0.999\n",
      "s2Spike 215 215 0.999\n",
      "s2Spike 246 246 0.999\n",
      "s2Spike 247 247 0.999\n",
      "s2Spike 251 251 0.999\n",
      "s2Spike 252 252 0.999\n",
      "s2Spike 253 253 0.999\n",
      "s2Spike 452 452 0.999\n",
      "s2Spike 826 826 0.999\n"
     ]
    }
   ],
   "source": [
    "# Get MEME Sites  -- Leaves (all branches) -- table 7\n",
    "with open(ANNOTATION) as f:\n",
    "    data = json.load(f)\n",
    "#end with\n",
    "\n",
    "for key in data:\n",
    "    #try:\n",
    "    #    pval = data[key][\"lMEME\"][\"p\"]\n",
    "    #except:\n",
    "    #    print(key)\n",
    "    #    break\n",
    "    pval = 0\n",
    "    pval = data[key].get(\"lMEME\", 1)\n",
    "    if pval != 1: pval = data[key][\"lMEME\"][\"p\"]\n",
    "    if pval <= 0.05:\n",
    "        x, i = map_to_gene(key)\n",
    "        #print(key, pval, x, NameMap[x], int(i)+1)\n",
    "        # print for Circos--style\n",
    "        output = [NameMap[x], str(int(i)+1), str(int(i)+1), str(0.999)]\n",
    "        #output = str(NameMap[x]) + ' ' + str(int(i) + 1) + ' ' + str(int(i) + 1) + ' ' +  str(0.999)\n",
    "        #print(NameMap[x], int(i)+1, int(i)+1, 0.999)\n",
    "        print(\" \".join(output))\n",
    "        output_data.append(output)\n",
    "        "
   ]
  },
  {
   "cell_type": "code",
   "execution_count": 21,
   "id": "8464d50c",
   "metadata": {},
   "outputs": [
    {
     "name": "stdout",
     "output_type": "stream",
     "text": [
      "s23C 45 45 0.899\n",
      "s2Envelope 71 71 0.899\n",
      "s2Helicase 105 105 0.899\n",
      "s2Helicase 253 253 0.899\n",
      "s2Helicase 503 503 0.899\n",
      "s2Matrix 81 81 0.899\n",
      "s2Methyltransferase 213 213 0.899\n",
      "s2Methyltransferase 296 296 0.899\n",
      "s2Nucleocapsid 11 11 0.899\n",
      "s2Nucleocapsid 18 18 0.899\n",
      "s2Nucleocapsid 24 24 0.899\n",
      "s2Nucleocapsid 27 27 0.899\n",
      "s2Nucleocapsid 49 49 0.899\n",
      "s2Nucleocapsid 90 90 0.899\n",
      "s2Nucleocapsid 119 119 0.899\n",
      "s2Nucleocapsid 135 135 0.899\n",
      "s2Nucleocapsid 151 151 0.899\n",
      "s2Nucleocapsid 173 173 0.899\n",
      "s2Nucleocapsid 202 202 0.899\n",
      "s2Nucleocapsid 212 212 0.899\n",
      "s2Nucleocapsid 366 366 0.899\n",
      "s2Nucleocapsid 367 367 0.899\n",
      "s2Nucleocapsid 381 381 0.899\n",
      "s2Nucleocapsid 398 398 0.899\n",
      "s2Nucleocapsid 401 401 0.899\n",
      "s2Nucleocapsid 403 403 0.899\n",
      "s2Nucleocapsid 416 416 0.899\n",
      "s2nsp10 104 104 0.899\n",
      "s2nsp3 41 41 0.899\n",
      "s2nsp3 183 183 0.899\n",
      "s2nsp3 256 256 0.899\n",
      "s2nsp4 103 103 0.899\n",
      "s2nsp4 386 386 0.899\n",
      "s2nsp4 492 492 0.899\n",
      "s2nsp6 108 108 0.899\n",
      "s2nsp6 118 118 0.899\n",
      "s2nsp6 122 122 0.899\n",
      "s2nsp6 221 221 0.899\n",
      "s2nsp6 260 260 0.899\n",
      "s2nsp9 38 38 0.899\n",
      "s2nsp9 42 42 0.899\n",
      "s2ORF8 51 51 0.899\n",
      "s2RdRP 227 227 0.899\n",
      "s2RdRP 473 473 0.899\n",
      "s2RdRP 529 529 0.899\n",
      "s2Spike 12 12 0.899\n",
      "s2Spike 20 20 0.899\n",
      "s2Spike 72 72 0.899\n",
      "s2Spike 246 246 0.899\n",
      "s2Spike 253 253 0.899\n",
      "s2Spike 452 452 0.899\n",
      "s2Spike 490 490 0.899\n",
      "s2Spike 826 826 0.899\n"
     ]
    }
   ],
   "source": [
    "# Get MEME Sites  -- Internal branches -- Table 1\n",
    "with open(ANNOTATION) as f:\n",
    "    data = json.load(f)\n",
    "#end with\n",
    "\n",
    "for key in data:\n",
    "    #try:\n",
    "    #    pval = data[key][\"lMEME\"][\"p\"]\n",
    "    #except:\n",
    "    #    print(key)\n",
    "    #    break\n",
    "    pval = 0\n",
    "    pval = data[key].get(\"bMEME\", 1)\n",
    "    \n",
    "    if pval != 1: pval = data[key][\"bMEME\"][\"p\"]\n",
    "        \n",
    "    if pval <= 0.05:\n",
    "        x, i = map_to_gene(key)\n",
    "        #print(key, pval, x, NameMap[x], int(i)+1)\n",
    "        # print for Circos--style \n",
    "        output = [NameMap[x], str(int(i)+1), str(int(i)+1), str(0.899)]\n",
    "        #print(NameMap[x], int(i)+1, int(i)+1, 0.899)\n",
    "        print(\" \".join(output))\n",
    "        output_data.append(output)\n",
    "        "
   ]
  },
  {
   "cell_type": "code",
   "execution_count": 22,
   "id": "7dbe7a99",
   "metadata": {},
   "outputs": [
    {
     "name": "stdout",
     "output_type": "stream",
     "text": [
      "s2Envelope 60 60 0.599\n",
      "s2Nucleocapsid 151 151 0.599\n",
      "s2nsp10 95 95 0.599\n",
      "s2nsp10 102 102 0.599\n",
      "s2nsp4 327 327 0.599\n"
     ]
    }
   ],
   "source": [
    "# Table 2\n",
    "for key in data:\n",
    "    pval = data[key][\"bCFEL\"][\"pp\"]\n",
    "    if abs(pval) <= 0.1:\n",
    "        x, i = map_to_gene(key)\n",
    "        #print(NameMap[x], int(i)+1, int(i)+1, 0.599)\n",
    "        output = [NameMap[x], str(int(i)+1), str(int(i)+1), str(0.599)]\n",
    "        print(\" \".join(output))\n",
    "        output_data.append(output)\n",
    "        "
   ]
  },
  {
   "cell_type": "code",
   "execution_count": 23,
   "id": "e45e9ad2",
   "metadata": {},
   "outputs": [
    {
     "name": "stdout",
     "output_type": "stream",
     "text": [
      "s2Nucleocapsid 327 327 0.499\n",
      "s2nsp2 299 299 0.499\n",
      "s2nsp3 1569 1569 0.499\n",
      "s2Spike 5 5 0.499\n"
     ]
    }
   ],
   "source": [
    "# Table 3 -- FADE\n",
    "\n",
    "for key in data:\n",
    "    #print(data[key][\"fade\"])\n",
    "    if data[key].get(\"fade\", None) == None: continue\n",
    "    for AA in data[key][\"fade\"]:\n",
    "        #print(key, AA)\n",
    "        \n",
    "        if float(data[key][\"fade\"][AA][\"BF\"]) >= 100:\n",
    "            # report the gene by mapping.\n",
    "            x, i = map_to_gene(key)\n",
    "            output = [NameMap[x], str(int(i)+1), str(int(i)+1), str(0.499)]\n",
    "            #print(NameMap[x], i+1)\n",
    "            print(\" \".join(output))\n",
    "            output_data.append(output)"
   ]
  },
  {
   "cell_type": "code",
   "execution_count": 24,
   "id": "8b5b25e1",
   "metadata": {},
   "outputs": [
    {
     "name": "stdout",
     "output_type": "stream",
     "text": [
      "s2Nucleocapsid 1 1 0.299\n",
      "s2Spike 1 1 0.299\n",
      "s2Spike 68 68 0.299\n"
     ]
    }
   ],
   "source": [
    "# Table 5 -- FEL negative\n",
    "\n",
    "# (s)=>s[1].bFEL.p<=0.05 && s[1].bFEL.a > s[1].bFEL.b)\n",
    "\n",
    "for GenomicPos in data: # keys are the sites, genomic position\n",
    "    error_check = data[GenomicPos].get(\"bFEL\", None)\n",
    "    if error_check == None: continue\n",
    "    pval = data[GenomicPos][\"bFEL\"].get(\"p\", 1)\n",
    "    if pval <= 0.05: \n",
    "        a = data[GenomicPos][\"bFEL\"].get(\"a\", 1)\n",
    "        b = data[GenomicPos][\"bFEL\"].get(\"b\", 1)\n",
    "        if a > b:\n",
    "            #print(GenomicPos, pval)\n",
    "            x, i = map_to_gene(GenomicPos)    \n",
    "            output = [NameMap[x], str(int(i)+1), str(int(i)+1), str(0.299)]\n",
    "            print(\" \".join(output))\n",
    "            output_data.append(output)"
   ]
  },
  {
   "cell_type": "code",
   "execution_count": 34,
   "id": "33f2b79a",
   "metadata": {},
   "outputs": [
    {
     "name": "stdout",
     "output_type": "stream",
     "text": [
      "s2Spike 18 18 0.699\n",
      "s2Spike 417 417 0.699\n",
      "s2Spike 484 484 0.699\n",
      "s2Spike 501 501 0.699\n",
      "s2Spike 681 681 0.699\n",
      "s2Spike 439 439 0.699\n",
      "s2Spike 452 452 0.699\n",
      "s2Spike 453 453 0.699\n",
      "s2Spike 477 477 0.699\n",
      "s2Spike 478 478 0.699\n",
      "s2Spike 483 483 0.699\n",
      "s2Spike 490 490 0.699\n",
      "s2Spike 494 494 0.699\n"
     ]
    }
   ],
   "source": [
    "# Known -- Bob Schafer\n",
    "BS = [\"s2Spike 18 18 0.699\",\n",
    "\"s2Spike 417 417 0.699\",\n",
    "\"s2Spike 484 484 0.699\",\n",
    "\"s2Spike 501 501 0.699\",\n",
    "\"s2Spike 681 681 0.699\",\n",
    "\"s2Spike 439 439 0.699\",\n",
    "\"s2Spike 452 452 0.699\",\n",
    "\"s2Spike 453 453 0.699\",\n",
    "\"s2Spike 477 477 0.699\",\n",
    "\"s2Spike 478 478 0.699\",\n",
    "\"s2Spike 483 483 0.699\",\n",
    "\"s2Spike 490 490 0.699\",\n",
    "\"s2Spike 494 494 0.699\",]\n",
    "\n",
    "BS2 = []\n",
    "for item in BS:\n",
    "    \n",
    "    x = item.split(\" \")\n",
    "    \n",
    "    print(\" \".join(x))\n",
    "    \n",
    "    BS2.append(x)\n",
    "    \n",
    "for item in BS2:\n",
    "    output_data.append(item)\n",
    "    \n",
    "#print(\" \".join(output))"
   ]
  },
  {
   "cell_type": "markdown",
   "id": "961e7937",
   "metadata": {},
   "source": [
    "## Clade defining mutations"
   ]
  },
  {
   "cell_type": "code",
   "execution_count": 36,
   "id": "750e3130",
   "metadata": {},
   "outputs": [],
   "source": [
    "# clade defining\n",
    "\"\"\"CD = {\"B-1-617-1\": {\"s2Spike\": 452, \"s2Spike\":484, \"s2Spike\":614, \"s2Spike\":681, \"s2Spike\":1071,\n",
    "                   \"s2ORF3a\": 26, \"s2ORF7a\":82, \"s2Nucleocapsid\": 203, \"s2Nucleocapsid\": 377, \"s2nsp2\":342, \"s2nsp2\":397,\n",
    "                   \"s2RdRP\":192, \"s2RdRP\":538, \"s2RdRP\":857}, \n",
    "      \n",
    "      \"B-1-617-2\":{}\n",
    "     }\n",
    "\"\"\"\n",
    "CD = {\"B-1-617-1\": {\"s2Spike\": [452, 484, 614, 681, 1071],\n",
    "                   \"s2ORF3a\": [26], \"s2ORF7a\":[82], \"s2Nucleocapsid\": [203, 377], \"s2nsp2\":[342, 397],\n",
    "                   \"s2RdRP\":[192, 538, 857]}, \n",
    "      \n",
    "      \"B-1-617-2\":{ \"s2RdRP\":[314, 662, 1000], \n",
    "                   \"s2Spike\": [19, 157,158, 452,478,614,681,950],\n",
    "                   \"s2ORF3a\": [26],\n",
    "                   \"s2Matrix\": [82],\n",
    "                  \"s2ORF7a\": [82, 120],\n",
    "                  \"s2ORF8\": [119, 120],\n",
    "                  \"s2Nucleocapsid\": [63, 203, 377],},\n",
    "     \"C.37\": {\"s2Spike\": [75, 76,452,490,614,859]}}"
   ]
  },
  {
   "cell_type": "code",
   "execution_count": 37,
   "id": "5fcc2fcc",
   "metadata": {},
   "outputs": [
    {
     "name": "stdout",
     "output_type": "stream",
     "text": [
      "s2Spike 75 75 0.799\n",
      "s2Spike 76 76 0.799\n",
      "s2Spike 452 452 0.799\n",
      "s2Spike 490 490 0.799\n",
      "s2Spike 614 614 0.799\n",
      "s2Spike 859 859 0.799\n"
     ]
    }
   ],
   "source": [
    "for item in CD[label]:\n",
    "    #print(item, CD[label][item])\n",
    "    \n",
    "    for entry in CD[label][item]:\n",
    "        output = [str(item), str(entry), str(entry), str(0.799)]\n",
    "        print(\" \".join(output))\n",
    "        output_data.append(output)"
   ]
  },
  {
   "cell_type": "code",
   "execution_count": 38,
   "id": "34736cc7",
   "metadata": {
    "scrolled": false
   },
   "outputs": [],
   "source": [
    "#print(output_data)\n",
    "\n",
    "#File_object.writelines(L) for L = [str1, str2, str3]\n",
    "#file1 = open('myfile.txt', 'w')\n",
    "#file1.writelines(\" \".join(L) + \"\\n\") for L = output_data\n",
    "\n",
    "#with open(\"Virological_Post/\" + label + \"_snpdata.txt\", \"w\") as file1:\n",
    "#    for item in output_data:\n",
    "#        #print(\" \".join(item))\n",
    "#        c = \" \".join(item) + \"\\n\"\n",
    "#        file1.write(c)"
   ]
  },
  {
   "cell_type": "markdown",
   "id": "87a1442f",
   "metadata": {},
   "source": [
    "## Links.. aka coevolving sites"
   ]
  },
  {
   "cell_type": "code",
   "execution_count": 29,
   "id": "355e08b3",
   "metadata": {},
   "outputs": [
    {
     "name": "stdout",
     "output_type": "stream",
     "text": [
      "s2Helicase 303 303 s2Helicase 481 481\n",
      "s2Nucleocapsid 413 413 s2Nucleocapsid 418 418\n",
      "s2nsp3 890 890 s2nsp3 1412 1412\n",
      "s2Spike 20 20 s2Spike 26 26\n",
      "s2Spike 20 20 s2Spike 43 43\n",
      "s2Spike 69 69 s2Spike 70 70\n",
      "s2Spike 152 152 s2Spike 899 899\n",
      "s2Spike 452 452 s2Spike 859 859\n",
      "s2Spike 490 490 s2Spike 859 859\n",
      "s2Spike 570 570 s2Spike 681 681\n",
      "s2Spike 570 570 s2Spike 1118 1118\n",
      "s2Spike 681 681 s2Spike 1118 1118\n"
     ]
    }
   ],
   "source": [
    "with open(SUMMARY) as f:\n",
    "    data_summary = json.load(f)\n",
    "#end with\n",
    "\n",
    "for key in data_summary:\n",
    "    bgm = data_summary[key][\"bgm\"]\n",
    "    if len(bgm) == 0: continue\n",
    "    #print(bgm)\n",
    "    \n",
    "    for item in bgm:\n",
    "        posterior_prob = item[4]\n",
    "        if posterior_prob >= 0.5:\n",
    "            # Debug here\n",
    "            #print(key, item)\n",
    "            \n",
    "            #print for circos style..\n",
    "            ##s2Nucleocapsid 1 1 s2Nucleocapsid 2 2\n",
    "            print(NameMap[key], item[0], item[0], NameMap[key], item[1], item[1])\n",
    "            \n",
    "            "
   ]
  }
 ],
 "metadata": {
  "kernelspec": {
   "display_name": "Python 3",
   "language": "python",
   "name": "python3"
  },
  "language_info": {
   "codemirror_mode": {
    "name": "ipython",
    "version": 3
   },
   "file_extension": ".py",
   "mimetype": "text/x-python",
   "name": "python",
   "nbconvert_exporter": "python",
   "pygments_lexer": "ipython3",
   "version": "3.7.10"
  }
 },
 "nbformat": 4,
 "nbformat_minor": 5
}
